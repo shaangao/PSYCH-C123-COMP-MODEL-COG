{
 "cells": [
  {
   "cell_type": "markdown",
   "metadata": {},
   "source": [
    "# Psych c123 - CogSci c131: Computational Models of Cognition"
   ]
  },
  {
   "cell_type": "markdown",
   "metadata": {},
   "source": [
    "---"
   ]
  },
  {
   "cell_type": "markdown",
   "metadata": {},
   "source": [
    "### Academic Integrity"
   ]
  },
  {
   "cell_type": "markdown",
   "metadata": {},
   "source": [
    "The University defines academic misconduct as “any action or attempted action that may result in creating an unfair academic advantage for oneself or an unfair academic advantage or disadvantage for any other member or members of the academic community.” All forms of academic misconduct including but not limited to cheating, fabrication, plagiarism, or facilitating academic dishonesty are prohibited.\n"
   ]
  },
  {
   "cell_type": "markdown",
   "metadata": {},
   "source": [
    "### Collaboration Policy"
   ]
  },
  {
   "cell_type": "markdown",
   "metadata": {},
   "source": [
    "Collaboration is permitted when solving problems, but each student must:\n",
    "\n",
    "1. **Write his or her own code.** You may share pseudocode with your collaborators, but should perform all final implementations on your own.\n",
    "2. **Compose his or her written answers independently.** You may discuss questions with your fellow classmates, but must compose your final responses on your own.\n",
    "\n",
    "In general, you should not give or receive aid that makes the assigned tasks significantly easier, and should document any significant help that you do receive."
   ]
  },
  {
   "cell_type": "markdown",
   "metadata": {},
   "source": [
    "### Validation Scripts"
   ]
  },
  {
   "cell_type": "markdown",
   "metadata": {},
   "source": [
    "PS0 notebooks have cells containing tests for your code. Make sure you run these cells. **If your code does not pass the test cells, you did NOT get things right.** "
   ]
  },
  {
   "cell_type": "markdown",
   "metadata": {},
   "source": [
    "### Questions"
   ]
  },
  {
   "cell_type": "markdown",
   "metadata": {},
   "source": [
    "If you have any questions regarding the problem set, please post them to the class Piazza site. In general, the Piazza site is for you to work together and to answer each other's questions. The GSIs will answer questions only once per day, and will **not** answer questions the night before the problem set is due. So get started early!"
   ]
  }
 ],
 "metadata": {
  "kernelspec": {
   "display_name": "Python 3",
   "language": "python",
   "name": "python3"
  },
  "language_info": {
   "codemirror_mode": {
    "name": "ipython",
    "version": 3
   },
   "file_extension": ".py",
   "mimetype": "text/x-python",
   "name": "python",
   "nbconvert_exporter": "python",
   "pygments_lexer": "ipython3",
   "version": "3.8.3"
  }
 },
 "nbformat": 4,
 "nbformat_minor": 1
}
