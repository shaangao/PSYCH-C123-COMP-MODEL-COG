{
 "cells": [
  {
   "cell_type": "markdown",
   "metadata": {},
   "source": [
    "<div style=\"background-color: #c1f2a5\">\n",
    "\n",
    "\n",
    "# PS6\n",
    "\n",
    "In this problem set, we are going to implement the perceptron algorithm on a very simple feature space: pixels in images of handwritten digits.\n",
    "    \n",
    "# Instructions\n",
    "\n",
    "Remember to do your problem set in Python 3. Fill in `#YOUR CODE HERE`.\n",
    "\n",
    "Make sure: \n",
    "- that all plots are scaled in such a way that you can see what is going on (while still respecting any specific plotting instructions). \n",
    "- that the general patterns are fairly represented.\n",
    "- to label all x- and y-axes unless otherwise instructed, and to include a title.\n",
    "    \n",
    "</div>"
   ]
  },
  {
   "cell_type": "code",
   "execution_count": 1,
   "metadata": {},
   "outputs": [],
   "source": [
    "import os\n",
    "import numpy as np\n",
    "import matplotlib.pyplot as plt"
   ]
  },
  {
   "cell_type": "markdown",
   "metadata": {},
   "source": [
    "## Import images for classification\n",
    "\n",
    "In this assignment, we will train a perceptron to classify images of handwritten numbers 0-9. \n",
    "\n",
    "To facilitate training our perceptron, we have provided a function to read image files (load_image_files) of a given digit (n), from a provided path (path=...), convert them to a numpy matrix, and finally flatten that numpy matrix into a vector. The function load_image_files returns all of the vectors corresponding to pixels in handwritten digits of n from the MNIST dataset. This function returns “images” of 28x28=784 zeroes and ones, corresponding to whether the image was white or black at a given location. \n",
    "\n",
    "Note that for convenience for the assignment, each “image” returned to you is a single vector of length 784.\n",
    "\n",
    "Functions that might be useful throughout this assignment (please read the documentation):\n",
    "\n",
    "- `x.flatten()` (take a N-dimensional numpy array and make it one-dimensional)\n",
    "- `np.random.choice` -- choose from the list of images\n",
    "- `np.dot()` -- compute the dot product of two vectors: the sum of the product of the coordinates.\n",
    "- `np.reshape()` -- reshapes a vector to a matrix\n",
    "- `x.imshow()` -- visualize a matrix as an image"
   ]
  },
  {
   "cell_type": "markdown",
   "metadata": {},
   "source": [
    "Run the following cell to load the first two sets of images for this assignment. For this to work, make sure your 'images' folder is in the same directory that your Jupyter notebook is saved in (NOTE: If you are using JupyterHub, this will automatically work)."
   ]
  },
  {
   "cell_type": "code",
   "execution_count": 2,
   "metadata": {},
   "outputs": [],
   "source": [
    "DIM = (28,28) #these are the dimensions of the image\n",
    "\n",
    "def load_image_files(n, path=\"images/\"):\n",
    "    # helper file to help load the images\n",
    "    # returns a list of numpy vectors\n",
    "    images = []\n",
    "    for f in sorted(os.listdir(os.path.join(path,str(n)))): # read files in the path\n",
    "        p = os.path.join(path,str(n),f)\n",
    "        if os.path.isfile(p):\n",
    "            i = np.loadtxt(p)\n",
    "            assert i.shape == DIM # just check the dimensions here\n",
    "            # i is loaded as a matrix, but we are going to flatten it into a single vector\n",
    "            images.append(i.flatten())\n",
    "    return images\n",
    "            \n",
    "\n",
    "# Load up these image files\n",
    "A = load_image_files(1)\n",
    "B = load_image_files(2)\n",
    "\n",
    "N = len(A[0]) # the total size\n",
    "assert N == DIM[0]*DIM[1] # just check our sizes to be sure\n",
    "\n",
    "# set up some random initial weights\n",
    "weights = np.random.normal(0,1,size=N)"
   ]
  },
  {
   "cell_type": "code",
   "execution_count": 6,
   "metadata": {},
   "outputs": [],
   "source": [
    "# Load up these image files\n",
    "A = load_image_files(0)\n",
    "B = load_image_files(1)\n",
    "\n",
    "N = len(A[0]) # the total size of input features\n",
    "assert N == DIM[0]*DIM[1] # just check our sizes to be sure\n"
   ]
  },
  {
   "cell_type": "markdown",
   "metadata": {},
   "source": [
    "## Q1. Visualize the images [SOLO, 5 pts]\n",
    "\n",
    "Let's explore what we have loaded so far by examining the type and length of A (images of the handwritten number '0') and B (images of the handwritten number '1')."
   ]
  },
  {
   "cell_type": "code",
   "execution_count": 7,
   "metadata": {},
   "outputs": [
    {
     "name": "stdout",
     "output_type": "stream",
     "text": [
      "The data type of A is: <class 'list'>\n",
      "\n",
      "The number of images in A is:  5923\n",
      "\n",
      "Each image in A is of the form:  <class 'numpy.ndarray'>  with length:  784\n",
      "\n",
      "The number of images in B is:  6742\n"
     ]
    }
   ],
   "source": [
    "print('The data type of A is:',type(A))\n",
    "print('\\nThe number of images in A is: ', len(A))\n",
    "print('\\nEach image in A is of the form: ', type(A[0]), ' with length: ', len(A[0]))\n",
    "print('\\nThe number of images in B is: ',len(B))"
   ]
  },
  {
   "cell_type": "markdown",
   "metadata": {},
   "source": [
    "For Q1, visualize three randomly chosen examples of the \"1\" images, and three randomly chosen examples of the \"0\" images in a figure with subplots in 2 rows and 3 columns. Make sure to indicate in each subplot title which number is being shown. \n",
    "\n",
    "You will need to use the np.reshape function to put each image back into a square file. Check one of the previous problem sets on how to visualize an array as an image! \n",
    "\n",
    "Remove x and y tickmarks for every subplot. Since these are images, do not label your x- and y-axes. You should include titles on each subplot indicating which numbers are shown, and one overall figure title.\n",
    "\n",
    "Save the total figure (all subplots in one figure) image as a png (refer to previous assignments, or right click and select 'Save As' in Jupyter)... and put the png in Gradescope.\n"
   ]
  },
  {
   "cell_type": "code",
   "execution_count": 78,
   "metadata": {},
   "outputs": [
    {
     "data": {
      "image/png": "[encoded data removed]",
      "text/plain": [
       "<Figure size 432x288 with 6 Axes>"
      ]
     },
     "metadata": {},
     "output_type": "display_data"
    }
   ],
   "source": [
    "figure, axis = plt.subplots(2,3, constrained_layout=True)  # constrained_layout=True: avoid overlapping suptitle and subplot titles\n",
    "\n",
    "#YOUR CODE HERE\n",
    "\n",
    "figure.suptitle('Handwritten 1s and 0s')\n",
    "\n",
    "for i in range(3):    # visualize 0s\n",
    "    choice = np.random.choice(len(B))  # return index of the chosen image\n",
    "    matrix = B[choice].reshape(28, 28)  # reshape\n",
    "    axis[0, i].matshow(matrix, cmap='gray')\n",
    "    axis[0, i].set_xticks([])\n",
    "    axis[0, i].set_yticks([])\n",
    "    axis[0, i].set_title('Handwritten 1 \\n(image index ' + str(choice) + ')')\n",
    "\n",
    "for i in range(3):    # visualize 1s\n",
    "    choice = np.random.choice(len(A))  # return index of the chosen image\n",
    "    matrix = A[choice].reshape(28, 28)  # reshape\n",
    "    axis[1, i].matshow(matrix, cmap='gray')\n",
    "    axis[1, i].set_xticks([])\n",
    "    axis[1, i].set_yticks([])\n",
    "    axis[1, i].set_title('Handwritten 0 \\n(image index ' + str(choice) + ')')\n",
    "\n",
    "\n",
    "figure.savefig('PS6_Q1.png')"
   ]
  },
  {
   "cell_type": "markdown",
   "metadata": {},
   "source": [
    "## Q2.1 Perceptron output [HELP, 5pts]\n",
    "\n",
    "Write the compute_output function that takes 1) the weights W of the perceptron and 2) an image (as a vector of 784 features), and computes the perceptron's output.\n",
    "\n",
    "As a reminder, to compute the perceptron's output, you should:\n",
    "- compute $y = \\sum_i w_i \\times x_i$. Look-up np.dot to speed up your code.\n",
    "- return $1$ if $y>0$, $0$ otherwise.\n",
    "\n",
    "Test your function with the test case we provide, and try other test cases of your own.\n",
    "\n",
    "When you are finished, copy and paste your function code into the designated spot on Gradescope (A). There will also be some printed output from a cell below the test case that you will be instructed to paste into Gradescope (B).\n",
    "\n"
   ]
  },
  {
   "cell_type": "markdown",
   "metadata": {},
   "source": [
    "### A.  Copy and paste your function code into the designated spot on Gradescope:"
   ]
  },
  {
   "cell_type": "code",
   "execution_count": 37,
   "metadata": {},
   "outputs": [],
   "source": [
    "def compute_output(W, image):\n",
    "    \"\"\"\n",
    "    Computes the output of the current network with weight matrix W for one image.\n",
    "    \n",
    "    Parameters\n",
    "    ----------\n",
    "    W: the weight matrix (1,n)\n",
    "    image:  a length n array of input features representing one image\n",
    "\n",
    "    Returns\n",
    "    -------\n",
    "    the 1 or 0 output of the network\n",
    "\n",
    "    \"\"\"\n",
    "    # YOUR CODE HERE\n",
    "    y = np.dot(W, image)\n",
    "    if y > 0:\n",
    "        return 1\n",
    "    return 0"
   ]
  },
  {
   "cell_type": "code",
   "execution_count": 38,
   "metadata": {},
   "outputs": [
    {
     "name": "stdout",
     "output_type": "stream",
     "text": [
      "[1. 1. 1. 1. 1. 1. 1. 1. 1. 1.]\n"
     ]
    }
   ],
   "source": [
    "# TEST YOUR FUNCTION ON YOUR OWN HERE\n",
    "A = load_image_files(0)\n",
    "B = load_image_files(1)\n",
    "weights = (np.arange(len(A[0]))/(len(A[0])))-.5\n",
    "\n",
    "Q2_test = np.empty(10)\n",
    "for i in range(5):\n",
    "    Q2_test[2*i] = compute_output(A[i],weights)\n",
    "    Q2_test[2*i + 1] = compute_output(B[i],weights)\n",
    "print(Q2_test)\n",
    "# this should return [1. 1. 1. 1. 1. 1. 1. 1. 1. 1.]\n",
    "\n"
   ]
  },
  {
   "cell_type": "markdown",
   "metadata": {},
   "source": [
    "### B. Copy and paste the printed output from the below cell into Q2 in Gradescope:"
   ]
  },
  {
   "cell_type": "code",
   "execution_count": 39,
   "metadata": {},
   "outputs": [
    {
     "name": "stdout",
     "output_type": "stream",
     "text": [
      "Q2 answer\n",
      "[1. 0. 1. 0. 1. 1. 1. 0. 0. 0.]\n"
     ]
    }
   ],
   "source": [
    "Q2_answers = np.empty(10)\n",
    "weights = np.sin(np.arange(len(A[0])))\n",
    "for i in range(5):\n",
    "    Q2_answers[2*i] = compute_output(A[i],weights)\n",
    "    Q2_answers[2*i + 1] = compute_output(B[i],weights)\n",
    "    \n",
    "print('Q2 answer')\n",
    "print(Q2_answers)"
   ]
  },
  {
   "cell_type": "markdown",
   "metadata": {},
   "source": [
    "## Q3. Overall accuracy [SOLO, 5 points]\n",
    "Write a function that computes the current accuracy of the network on a set of images.\n",
    "\n",
    "Test your function with the provided test case on your own.\n",
    "Then, you will report in Gradescope the output for 0 and 1 images for the perceptron defined by sin_weights, provided below. Copy and paste your function code (**A**) and the Q3 output (**B**) as specified in the Gradescope prompts!"
   ]
  },
  {
   "cell_type": "markdown",
   "metadata": {},
   "source": [
    "### A. Copy and paste your function code into the designated spot on Gradescope:\n"
   ]
  },
  {
   "cell_type": "code",
   "execution_count": 42,
   "metadata": {},
   "outputs": [],
   "source": [
    "def compute_accuracy(W,images,labels):\n",
    "    \"\"\"\n",
    "    Computes the network accuracy on a list of images\n",
    "    \n",
    "    Parameters\n",
    "    ----------\n",
    "    W: the current weight matrix\n",
    "    images:  list of length n array images for number\n",
    "    labels: list of correct labels for images\n",
    "\n",
    "    Returns\n",
    "    -------\n",
    "    Proportion of correct labels\n",
    "\n",
    "    \"\"\"\n",
    "    num_correct = 0  # tracking the number of correct labels\n",
    "    total = len(labels)\n",
    "    for i in range(total):\n",
    "        label_assigned = compute_output(W, images[i])\n",
    "        num_correct += 1 if label_assigned == labels[i] else 0\n",
    "    return num_correct/total"
   ]
  },
  {
   "cell_type": "code",
   "execution_count": 43,
   "metadata": {},
   "outputs": [
    {
     "name": "stdout",
     "output_type": "stream",
     "text": [
      "accuracy on \"0\" images is  0.0595981765996961\n",
      "accuracy on \"1\" images is  0.10872144764164936\n"
     ]
    }
   ],
   "source": [
    "# TEST YOUR FUNCTION ON YOUR OWN\n",
    "weights = (np.arange(len(A[0]))/(len(A[0])))-.5\n",
    "accuracyA = compute_accuracy(weights,A,np.zeros(len(A)))\n",
    "print('accuracy on \"0\" images is ',accuracyA)\n",
    "accuracyB = compute_accuracy(weights,B,np.zeros(len(B)))\n",
    "print('accuracy on \"1\" images is ',accuracyB)\n",
    "\n",
    "# your answer should be\n",
    "#accuracy on \"0\" images is  0.0595981765996961\n",
    "#accuracy on \"1\" images is  0.10872144764164936"
   ]
  },
  {
   "cell_type": "markdown",
   "metadata": {},
   "source": [
    "### B. Copy and paste the printed output from the below cell into Q3 in Gradescope:"
   ]
  },
  {
   "cell_type": "code",
   "execution_count": 44,
   "metadata": {},
   "outputs": [
    {
     "name": "stdout",
     "output_type": "stream",
     "text": [
      "Q3_answer\n",
      "accuracy on \"0\" images is  0.5043052507175417\n",
      "accuracy on \"1\" images is  0.5103826757638683\n"
     ]
    }
   ],
   "source": [
    "# Q3 output\n",
    "print('Q3_answer')\n",
    "\n",
    "sin_weights = np.sin(np.arange(len(A[0])))\n",
    "accuracyA = compute_accuracy(sin_weights,A,np.zeros(len(A)))\n",
    "print('accuracy on \"0\" images is ',accuracyA)\n",
    "accuracyB = compute_accuracy(sin_weights,B,np.zeros(len(B)))\n",
    "print('accuracy on \"1\" images is ',accuracyB)"
   ]
  },
  {
   "cell_type": "markdown",
   "metadata": {},
   "source": [
    "## Q4. Updating the weights after one single training example [HELP, 5pts]\n",
    "\n",
    "Write the function update_weights_single_image that updates the network's weights with one example: an image and its label (1 or 0) over one update cycle. \n",
    "\n",
    "Use the following learning algorithm for this perceptron.\n",
    "\n",
    "Simplest perceptron algorithm:\n",
    "1. Use the input W to compute $y = \\sum_i w_i \\times x_i$ and determine predicted label (1/0).   \n",
    "   \n",
    "2. If predicted and true label disagree:  \n",
    "    --> If true label is “1”: W += x   \n",
    "    --> If true label is \"0\": W -= x   \n",
    "   If predicted and true label agree, do nothing.\n",
    "\n",
    "See slide 22 of Lecture 12 on Simple Networks to refresh on this learning algorithm.\n"
   ]
  },
  {
   "cell_type": "code",
   "execution_count": 68,
   "metadata": {},
   "outputs": [],
   "source": [
    "def update_weights_single_image(W,image,label):\n",
    "    \"\"\"\n",
    "    Updates the weight matrix W after one training (image,label) pair.\n",
    "    \n",
    "    \n",
    "    Parameters\n",
    "    ----------\n",
    "    W: the current weight matrix\n",
    "    image:  a length n array of input features representing one image\n",
    "    label: a single number indicating whether the image is a 0 or a 1\n",
    "\n",
    "    Returns\n",
    "    -------\n",
    "    the new perceptron weight matrix (same size as W)\n",
    "\n",
    "    \"\"\"\n",
    "    \n",
    "    # YOUR CODE HERE\n",
    "    predicted = compute_output(W, image)\n",
    "    if predicted != label:\n",
    "        if label == 1:\n",
    "            W += image\n",
    "        if label == 0:\n",
    "            W -= image\n",
    "#     return W"
   ]
  },
  {
   "cell_type": "markdown",
   "metadata": {},
   "source": [
    "**Next:** \n",
    "\n",
    "Start with 0 weights, and train the perceptron on a single image, the first image of a \"1\". Visualize the trained weights the same way you visualized the images in Q1: reshaping them (28,28). Use the same label and format guidelines as for Q1. \n",
    "\n",
    "Your image should have a clear pattern. Upload it to Gradescope, and explain the pattern you see.\n"
   ]
  },
  {
   "cell_type": "markdown",
   "metadata": {},
   "source": [
    "### Upload your image to Gradescope:"
   ]
  },
  {
   "cell_type": "code",
   "execution_count": 69,
   "metadata": {},
   "outputs": [
    {
     "data": {
      "image/png": "[encoded data removed]",
      "text/plain": [
       "<Figure size 432x288 with 1 Axes>"
      ]
     },
     "metadata": {},
     "output_type": "display_data"
    }
   ],
   "source": [
    "weights = np.zeros(len(B[0]))\n",
    "# YOUR CODE HERE\n",
    "update_weights_single_image(weights,B[0],1)\n",
    "\n",
    "\n",
    "figure, axis = plt.subplots()\n",
    "im = axis.imshow(np.reshape(weights, [28,28]))\n",
    "\n",
    "\n",
    "axis.set_xticks([])\n",
    "axis.set_yticks([])\n",
    "\n",
    "\n",
    "# set the title\n",
    "axis.set_title('Weights after one 1 example');\n",
    "figure.savefig('PS6_Q4.png')"
   ]
  },
  {
   "cell_type": "markdown",
   "metadata": {},
   "source": [
    "## Q5. Train with multiple images [SOLO, 5 points]\n",
    "\n",
    "Write the function update_weights_multiple_images that takes starting network weights, the images and their labels, and applies the previous training to all images in order.\n",
    "\n",
    "This function should use your previous function that updated weights based on a single image. Copy your function into gradescope."
   ]
  },
  {
   "cell_type": "code",
   "execution_count": 70,
   "metadata": {},
   "outputs": [],
   "source": [
    "def update_weights_multiple_images(W,images,labels):\n",
    "    \"\"\"\n",
    "    Updates the weight matrix W with multiple training (image,label) pairs.\n",
    "    \n",
    "    Parameters\n",
    "    ----------\n",
    "    W: the current weight matrix\n",
    "    images: list of images (each image a length n array)\n",
    "    labels: list of labels (1 or 0)\n",
    "\n",
    "    Returns\n",
    "    -------\n",
    "    the new perceptron weight matrix (same size as W)\n",
    "\n",
    "    \"\"\"\n",
    "    \n",
    "    # YOUR CODE HERE\n",
    "    for i in range(len(images)):\n",
    "        update_weights_single_image(W,images[i],labels[i])\n",
    "    return W"
   ]
  },
  {
   "cell_type": "markdown",
   "metadata": {},
   "source": [
    "## Q6. Train your perceptron! [SOLO, 5 pts]\n",
    "\n",
    "We'll train the preceptron in small batches. We first initialize the weights from a random normal distribution. We'll select N_samples images of \"0\"s and N_samples images of \"1\"s randomly, then train the weights on this small batch. We'll then iterate this for as many steps as needed.\n",
    "\n",
    "We're providing the train_perceptron function (read and make sure to check that you understand the function).\n"
   ]
  },
  {
   "cell_type": "code",
   "execution_count": 71,
   "metadata": {},
   "outputs": [],
   "source": [
    "def train_perceptron(train_0, train_1,N_samples = 5, steps = 200):\n",
    "    performance = np.empty(steps)\n",
    "    train_labels = np.ones(2*N_samples)\n",
    "    train_labels[0:N_samples] = np.zeros(N_samples)\n",
    "    \n",
    "    full_sample = train_0+train_1\n",
    "    full_labels = np.ones(len(full_sample))\n",
    "    full_labels[0:len(train_0)]=np.zeros(len(train_0))\n",
    "\n",
    "    # set up some random initial weights\n",
    "    weights = np.random.normal(0,1,size=N)\n",
    "    for i in range(steps):\n",
    "        examples_0 = [train_0[j] for j in np.random.choice(np.arange(len(train_0)),size=N_samples,replace = False).tolist()]\n",
    "        examples_1 = [train_1[j] for j in np.random.choice(np.arange(len(train_1)),size=N_samples,replace = False).tolist()]\n",
    "        examples = examples_0+examples_1\n",
    "        \n",
    "        weights = update_weights_multiple_images(weights,examples,train_labels)\n",
    "        performance[i] = compute_accuracy(weights,full_sample,full_labels)\n",
    "        \n",
    "    return performance, weights"
   ]
  },
  {
   "cell_type": "markdown",
   "metadata": {},
   "source": [
    "### Train your perceptron:\n",
    "\n",
    "Plot the performance (i.e., accuracy) as a function of time (i.e., step) for N_samples = 1, 5, and 25. Use 200 steps for each. Place the three subplots into one figure with subplots in 3 rows and 1 column, and an overall figure size of (8,12). \n",
    "- Set each y axis limit to (0.7,1.2).\n",
    "- Make sure to indicate with titles which subplot reflects which number of training samples! Also make sure to add an overall figure title.\n",
    "- Run this multiple times, and select the set of subplots  you find most representative to copy into Gradescope.\n",
    "\n",
    "**A**. Copy and paste your image from the below cell into Q6 in Gradescope. \n",
    "\n",
    "**B**. How many steps should we run? Explain (in the Gradescope prompt) in a couple of sentences your heuristic.\n",
    "\n",
    "**C**. Does your solution converge on 100% accuracy or not? What does this mean in terms of the linear separability of “0” and “1” on this feature space?\n"
   ]
  },
  {
   "cell_type": "code",
   "execution_count": 80,
   "metadata": {},
   "outputs": [
    {
     "data": {
      "image/png": "[encoded data removed]",
      "text/plain": [
       "<Figure size 576x864 with 3 Axes>"
      ]
     },
     "metadata": {
      "needs_background": "light"
     },
     "output_type": "display_data"
    }
   ],
   "source": [
    "figure, (axis1, axis2, axis3) = plt.subplots(3,1, figsize=(8,12), constrained_layout=True) #YOUR CODE HERE\n",
    "\n",
    "#YOUR CODE HERE\n",
    "\n",
    "figure.suptitle('Performance as a function of time for N_samples = 1, 5, and 25')\n",
    "step = np.arange(1, 201)\n",
    "\n",
    "performance1, weights1 = train_perceptron(A, B, 1, 200)\n",
    "axis1.plot(step, performance1)\n",
    "axis1.set_ylim([0.7, 1.2])\n",
    "axis1.set_xlabel(\"step\")\n",
    "axis1.set_ylabel(\"performance(accuracy)\")\n",
    "axis1.set_title(\"N_samples = 1\")\n",
    "\n",
    "performance5, weights5 = train_perceptron(A, B, 5, 200)\n",
    "axis2.plot(step, performance5)\n",
    "axis2.set_ylim([0.7, 1.2])\n",
    "axis2.set_xlabel(\"step\")\n",
    "axis2.set_ylabel(\"performance(accuracy)\")\n",
    "axis2.set_title(\"N_samples = 5\")\n",
    "\n",
    "performance25, weights25 = train_perceptron(A, B, 25, 200)\n",
    "axis3.plot(step, performance25)\n",
    "axis3.set_ylim([0.7, 1.2])\n",
    "axis3.set_xlabel(\"step\")\n",
    "axis3.set_ylabel(\"performance(accuracy)\")\n",
    "axis3.set_title(\"N_samples = 25\")\n",
    "\n",
    "\n",
    "figure.savefig('PS6_Q6.png')"
   ]
  },
  {
   "cell_type": "markdown",
   "metadata": {},
   "source": [
    "## Q7. trained weights [SOLO 5pts]\n",
    "\n",
    "Reshape your fitted weights (for the N_samples = 25, steps = 200 case) into the usual (28,28) shape and visualize them. Show a picture of this weight matrix. Add a color bar to your plot, as well as a title. \n",
    "\n",
    "**(A)** Copy the plot into Gradescope. \n",
    "   \n",
    "**(B)** Interpret your plot using 1-3 sentences in the Gradescope prompt, addressing each of the following points to receive full credit: \n",
    "\n",
    "- What do large negative and large positive values mean, intuitively? \n",
    "- What do numbers near zero mean? \n",
    "- Why does this matrix look the way that it does, in terms of where large positive and negative terms are located?"
   ]
  },
  {
   "cell_type": "code",
   "execution_count": 106,
   "metadata": {},
   "outputs": [
    {
     "data": {
      "image/png": "[encoded data removed]",
      "text/plain": [
       "<Figure size 432x288 with 2 Axes>"
      ]
     },
     "metadata": {
      "needs_background": "light"
     },
     "output_type": "display_data"
    }
   ],
   "source": [
    "#YOUR CODE HERE\n",
    "\n",
    "\n",
    "figure, axis = plt.subplots()\n",
    "im = axis.imshow(np.reshape(weights25, [28,28]))\n",
    "figure.colorbar(im)  # add colorbar\n",
    "\n",
    "\n",
    "# axis.set_xticks([])\n",
    "# axis.set_yticks([])\n",
    "\n",
    "\n",
    "axis.set_title('Fitted weights \\n(N_samples = 25, steps = 200)');\n",
    "\n",
    "\n",
    "figure.savefig('PS6_Q7.png')"
   ]
  },
  {
   "cell_type": "markdown",
   "metadata": {},
   "source": [
    "## Q8. Zeroing weights [5pts, HELP] \n",
    "What should you expect to happen if you set the elements of the weight vector which are close to zero to be actually zero? We will explore this by starting with the trained weights from the N_samples = 25, steps = 200 case (as calculated above in Q6).\n",
    "\n",
    "Set the 7, 14, 21, ... 784 weight values closest to zero (in absolute value) to be actually 0, and calculate the accuracy in each case on classifications for “0” and “1” for 1000 randomly chosen samples of each. \n",
    "\n",
    "Create a plot with one line showing accuracy for \"0\" images vs. number of small values set to zero, and another line on the same plot showing accuracy for \"1\" images vs. number of small values set to zero.\n",
    "\n",
    "Use a different color for each line, and make sure your plot shows a legend with labels, in addition to a title, and x- and y-axis labels. Set your y-axis limits to [0.5,1.1]. (You do not need to adjust the x-axis limits; they should automatically range from 0 to around 800).\n",
    "\n",
    "**(A)**  Copy your plot into Gradescope.\n",
    "  \n",
    "  \n",
    "**(B)**  What does this tell you about the proportion of the image which is diagnostic about “0” vs “1”? Enter your written response to this question at the Gradescope prompt.\n",
    "\n",
    "\n"
   ]
  },
  {
   "cell_type": "markdown",
   "metadata": {},
   "source": [
    "### A.  Copy and paste your plot into Gradescope."
   ]
  },
  {
   "cell_type": "code",
   "execution_count": 117,
   "metadata": {},
   "outputs": [],
   "source": [
    "#Set the trained weights to use (if needed)\n",
    "\n",
    "#YOUR CODE HERE\n"
   ]
  },
  {
   "cell_type": "code",
   "execution_count": 118,
   "metadata": {},
   "outputs": [
    {
     "data": {
      "text/plain": [
       "array([1.   , 1.   , 1.   , 1.   , 1.   , 1.   , 1.   , 1.   , 1.   ,\n",
       "       1.   , 1.   , 1.   , 1.   , 1.   , 1.   , 1.   , 1.   , 1.   ,\n",
       "       1.   , 1.   , 1.   , 1.   , 1.   , 1.   , 1.   , 1.   , 1.   ,\n",
       "       1.   , 1.   , 1.   , 1.   , 1.   , 1.   , 1.   , 1.   , 1.   ,\n",
       "       1.   , 1.   , 1.   , 1.   , 1.   , 1.   , 1.   , 1.   , 1.   ,\n",
       "       1.   , 1.   , 1.   , 1.   , 1.   , 1.   , 1.   , 1.   , 1.   ,\n",
       "       1.   , 1.   , 1.   , 1.   , 1.   , 1.   , 1.   , 1.   , 1.   ,\n",
       "       1.   , 1.   , 1.   , 1.   , 1.   , 1.   , 1.   , 1.   , 1.   ,\n",
       "       1.   , 1.   , 1.   , 1.   , 1.   , 1.   , 1.   , 0.999, 0.999,\n",
       "       0.999, 0.999, 0.999, 0.999, 0.999, 0.999, 0.999, 0.999, 0.999,\n",
       "       0.999, 0.999, 1.   , 1.   , 1.   , 1.   , 1.   , 1.   , 1.   ,\n",
       "       1.   , 1.   , 1.   , 1.   , 1.   , 1.   , 1.   , 1.   , 1.   ,\n",
       "       1.   , 1.   , 1.   , 0.   ])"
      ]
     },
     "execution_count": 118,
     "metadata": {},
     "output_type": "execute_result"
    }
   ],
   "source": [
    "#Iterate through the various subsets of weights to zero out, and perform the accuracy calculations for the\n",
    "#\"0\" and \"1\" examples on each iteration\n",
    "\n",
    "#Hint: You may wish to work with a .copy() of your starting trained weights, just in case anything gets \n",
    "#accidentally overwritten while coding\n",
    "\n",
    "#YOUR CODE HERE\n",
    "\n",
    "w_abs = np.absolute(weights25)\n",
    "\n",
    "\n",
    "examples_0 = [A[j] for j in np.random.choice(np.arange(len(A)),size=1000,replace = False).tolist()]\n",
    "examples_1 = [B[j] for j in np.random.choice(np.arange(len(B)),size=1000,replace = False).tolist()]\n",
    "\n",
    "\n",
    "num_zeros = np.arange(1, 112+1) * 7\n",
    "accuracy0 = np.zeros(112)\n",
    "accuracy1 = np.zeros(112)\n",
    "\n",
    "for i in range(111):\n",
    "    k = num_zeros[i]  # k: number of weight values to be set to zero\n",
    "    w = weights25.copy()\n",
    "    idx = np.argpartition(w_abs, k)\n",
    "    w[idx[:k]] = 0  # set the first k numbers closest to zero to zero\n",
    "    accuracy0[i] = compute_accuracy(w,examples_0,np.zeros(1000))\n",
    "    accuracy1[i] = compute_accuracy(w,examples_1,np.ones(1000))\n",
    "\n",
    "\n",
    "accuracy0[111] = compute_accuracy(np.zeros(784),examples_0,np.zeros(1000))\n",
    "accuracy1[111] = compute_accuracy(np.zeros(784),examples_1,np.ones(1000))\n",
    "\n",
    "accuracy1"
   ]
  },
  {
   "cell_type": "code",
   "execution_count": 122,
   "metadata": {},
   "outputs": [
    {
     "data": {
      "image/png": "[encoded data removed]",
      "text/plain": [
       "<Figure size 432x288 with 1 Axes>"
      ]
     },
     "metadata": {
      "needs_background": "light"
     },
     "output_type": "display_data"
    }
   ],
   "source": [
    "#Plot the results according to the instructions above\n",
    "\n",
    "#YOUR CODE HERE\n",
    "\n",
    "figure, axis = plt.subplots()\n",
    "\n",
    "\n",
    "axis.plot(num_zeros, accuracy0, 'k', label = r'\"0\" images')\n",
    "axis.plot(num_zeros, accuracy1, 'b', label = r'\"1\" images')\n",
    "\n",
    "\n",
    "axis.set_xlabel(\"number of small values set to zero\")\n",
    "axis.set_ylabel(\"accuracy\")\n",
    "axis.set_ylim([0.5, 1.1])\n",
    "axis.set_title('Accuracy as a function of number of small values set to zero')\n",
    "plt.legend()\n",
    "\n",
    "\n",
    "figure.savefig('PS6_Q8.png')"
   ]
  },
  {
   "cell_type": "markdown",
   "metadata": {},
   "source": [
    "## Q9. Classifying multiple digits [5 pts, HELP]\n",
    "\n",
    "Train a perceptron for each possible pair of digits using the default parameters (not just \"0\" vs. \"1\", but also \"0\" vs. \"2\", ..., \"8\" vs.\"9\". \n",
    "\n",
    "Note that you can still use your previous \"train_perceptron\" function for any pair of digits. The classifier will internally refer to them as '0' or '1' as a binary indicator of group, but the effect of the training will be to distinguish whichever two numbers the perceptron is being trained on. \n",
    "\n",
    "Store the accuracy on the full data set for each pair of digits in a 10 by 10 matrix (the diagonal elements' value should be 1). Visualize the matrix as an image with colors indicating the accuracy. Add a colorbar, and ticks and labels indicating the digits. You should also label your x and y axis for this plot.\n",
    "\n",
    "**(A)**  Upload your final plot to Gradescope.  \n",
    "   \n",
    "**(B)**  What does this plot tell you about which pairs of numbers may be harder to identify? Does this match your intuitions? Answer in 2-3 sentences in Gradescope.\n",
    "\n",
    "Hint: this make take a while to run (depending on your code efficiency, it could take a few minutes to an hour). Start early, and when you develop your code, try it out with just digits until 3 or 4. When you think it's working, run it for all digits up to 9.\n"
   ]
  },
  {
   "cell_type": "code",
   "execution_count": 123,
   "metadata": {},
   "outputs": [
    {
     "data": {
      "text/plain": [
       "array([[0., 0., 0., 0., 0., 0., 0., 0., 0., 0.],\n",
       "       [0., 0., 0., 0., 0., 0., 0., 0., 0., 0.],\n",
       "       [0., 0., 0., 0., 0., 0., 0., 0., 0., 0.],\n",
       "       [0., 0., 0., 0., 0., 0., 0., 0., 0., 0.],\n",
       "       [0., 0., 0., 0., 0., 0., 0., 0., 0., 0.],\n",
       "       [0., 0., 0., 0., 0., 0., 0., 0., 0., 0.],\n",
       "       [0., 0., 0., 0., 0., 0., 0., 0., 0., 0.],\n",
       "       [0., 0., 0., 0., 0., 0., 0., 0., 0., 0.],\n",
       "       [0., 0., 0., 0., 0., 0., 0., 0., 0., 0.],\n",
       "       [0., 0., 0., 0., 0., 0., 0., 0., 0., 0.]])"
      ]
     },
     "execution_count": 123,
     "metadata": {},
     "output_type": "execute_result"
    }
   ],
   "source": [
    "#YOUR CODE HERE\n",
    "\n",
    "matrix = np.zeros(100).reshape(10, 10)\n",
    "\n",
    "matrix\n",
    "\n",
    "\n",
    "# figure.savefig('PS6_Q9.png')"
   ]
  },
  {
   "cell_type": "markdown",
   "metadata": {},
   "source": [
    "<div style=\"background-color: #c1f2a5\">\n",
    "\n",
    "# Submission\n",
    "\n",
    "When you're done with your problem set, do the following:\n",
    "- Upload your answers in Gradescope's PS6.\n",
    "\n",
    "- Convert your Jupyter Notebook into a `.py` file by doing the following:    \n",
    "    \n",
    "</div>\n",
    "\n",
    "\n",
    "<center>    \n",
    "  <img src=\"https://www.dropbox.com/s/7s189m4dsvu5j65/instruction.png?dl=1\" width=\"300\"/>\n",
    "</center>\n",
    "\n",
    "<div style=\"background-color: #c1f2a5\">\n",
    "    \n",
    "- Submit the `.py` file you just created in Gradescope's PS6-code.\n",
    "    \n",
    "</div>        \n",
    "\n",
    "\n",
    "\n",
    "\n",
    "</div>\n",
    "\n",
    "</div>\n"
   ]
  }
 ],
 "metadata": {
  "kernelspec": {
   "display_name": "Python 3",
   "language": "python",
   "name": "python3"
  },
  "language_info": {
   "codemirror_mode": {
    "name": "ipython",
    "version": 3
   },
   "file_extension": ".py",
   "mimetype": "text/x-python",
   "name": "python",
   "nbconvert_exporter": "python",
   "pygments_lexer": "ipython3",
   "version": "3.8.3"
  },
  "toc": {
   "base_numbering": 1,
   "nav_menu": {},
   "number_sections": false,
   "sideBar": true,
   "skip_h1_title": false,
   "title_cell": "Table of Contents",
   "title_sidebar": "Contents",
   "toc_cell": false,
   "toc_position": {},
   "toc_section_display": true,
   "toc_window_display": false
  },
  "varInspector": {
   "cols": {
    "lenName": 16,
    "lenType": 16,
    "lenVar": 40
   },
   "kernels_config": {
    "python": {
     "delete_cmd_postfix": "",
     "delete_cmd_prefix": "del ",
     "library": "var_list.py",
     "varRefreshCmd": "print(var_dic_list())"
    },
    "r": {
     "delete_cmd_postfix": ") ",
     "delete_cmd_prefix": "rm(",
     "library": "var_list.r",
     "varRefreshCmd": "cat(var_dic_list()) "
    }
   },
   "types_to_exclude": [
    "module",
    "function",
    "builtin_function_or_method",
    "instance",
    "_Feature"
   ],
   "window_display": false
  }
 },
 "nbformat": 4,
 "nbformat_minor": 4
}
