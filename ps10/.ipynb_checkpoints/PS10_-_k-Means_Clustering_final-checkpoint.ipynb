{
 "cells": [
  {
   "cell_type": "markdown",
   "metadata": {
    "deletable": false,
    "nbgrader": {
     "cell_type": "release"
    }
   },
   "source": [
    "Make sure you fill in any place that says `YOUR CODE HERE` or \"YOUR ANSWER HERE\"."
   ]
  },
  {
   "cell_type": "markdown",
   "metadata": {
    "deletable": false,
    "nbgrader": {}
   },
   "source": [
    "---\n",
    "<div style=\"background-color: #c1f2a5\">\n",
    "\n",
    "\n",
    "# PS10\n",
    "\n",
    "In this problem set, we are going to implement k-means clustering.\n",
    "    \n",
    "# Instructions\n",
    "\n",
    "\n",
    "\n",
    "Remember to do your problem set in Python 3. Fill in `#YOUR CODE HERE`.\n",
    "\n",
    "Unless we specify otherwise, make sure: \n",
    "- that all plots are scaled in such a way that you can see what is going on (while still respecting specific plotting instructions) \n",
    "- that the general patterns are fairly represented.\n",
    "- to label all x- and y-axes, and to include a title.\n",
    "    \n",
    "**Test cases are here to help you debug your code, but passing them successfully is not a guarantee that your code is correct.**\n",
    "    \n",
    "</div>"
   ]
  },
  {
   "cell_type": "code",
   "execution_count": 10,
   "metadata": {
    "deletable": false,
    "nbgrader": {}
   },
   "outputs": [],
   "source": [
    "%matplotlib inline\n",
    "import numpy as np\n",
    "import matplotlib.pyplot as plt\n",
    "# import math"
   ]
  },
  {
   "cell_type": "markdown",
   "metadata": {
    "deletable": false,
    "nbgrader": {}
   },
   "source": [
    "An example observation from the categories cat, dog, and mop are presented below:\n",
    "![](images/test.png)\n",
    "We assume each observation can be represented as a pair of ($x,y$) coordinates, i.e., each object is represented in two-dimensional space. Suppose we have observed some observations from each type of object, but have lost the information as to which instance belongs to which type!\n",
    "\n",
    "To try and recover this information we will use an unsupervised learning algorithm called _k-means clustering_. As you may recall from lecture, the $k$ here refers to how many types of clusters we think exist in the data, and the goal of the algorithm is to assign labels to the data points using their distance to the centers (or means) of the clusters. In other words, the data points should be assigned the category label of the cluster whose center is closest to the data point. For this particular problem, we assume $k=3$. After randomly initializing cluster centers,\n",
    "the algorithm can be broken down into two alternating steps: \n",
    "\n",
    "1. Update the label assignments of the data points based on the nearest cluster centers\n",
    "2. Update the positions of the cluster centers to reflect the updated assignments of data points.\n",
    "\n",
    "Before you begin, load the data we will be using. For answering the questions in this problem set, use the `centers` loaded from the `X.npz`  file below (i.e., do NOT randomly initialize the values yourself - the autograder for this problem relies on a \"stock\" initialization)."
   ]
  },
  {
   "cell_type": "markdown",
   "metadata": {
    "deletable": false
   },
   "source": [
    "<div class=\"alert alert-warning\">\n",
    "**N.B.** we use non-random initializations for the cluster centers to make tests letting you know if your code is correct feasible until Q4. Normally, cluster centers would be randomly initialized, and we will implement this in Q5. \n",
    "</div>"
   ]
  },
  {
   "cell_type": "code",
   "execution_count": 2,
   "metadata": {
    "deletable": false,
    "nbgrader": {
     "checksum": "f5304894e0100fb6f675a9d626548948",
     "grade": false,
     "grade_id": "load_data",
     "locked": true,
     "solution": false
    }
   },
   "outputs": [
    {
     "name": "stdout",
     "output_type": "stream",
     "text": [
      "[x,y] coordinates of observations: \n",
      "[[3.17014624 2.42738134]\n",
      " [3.10945591 1.90239505]\n",
      " [2.96418311 1.82748366]\n",
      " [2.91461687 1.88794482]\n",
      " [3.51445266 2.17859409]\n",
      " [2.90636624 1.67106719]\n",
      " [2.9524492  2.15678052]\n",
      " [2.7653169  1.66717629]\n",
      " [2.79663441 1.96728796]\n",
      " [2.85409531 1.54327596]\n",
      " [3.63398062 2.9905047 ]\n",
      " [3.67321618 2.9501688 ]\n",
      " [3.32811256 3.22041747]\n",
      " [3.57939394 2.98596398]\n",
      " [3.54071059 2.78969028]\n",
      " [3.78977898 2.96128904]\n",
      " [3.53209701 3.29714867]\n",
      " [3.75986453 2.89627318]\n",
      " [3.47080721 2.83534581]\n",
      " [3.33792577 3.24599767]\n",
      " [3.02530687 3.60834344]\n",
      " [2.90932354 4.26426491]\n",
      " [2.81529304 3.85310555]\n",
      " [2.6300394  4.0755554 ]\n",
      " [3.03834294 4.0548656 ]\n",
      " [2.92074563 3.78044972]\n",
      " [3.07972956 3.28465006]\n",
      " [2.63586335 4.13388882]\n",
      " [3.33045863 3.91449067]\n",
      " [3.12180098 3.85053529]]\n",
      "\n",
      "[x,y] coordinates of cluster centers: \n",
      "[[4.02596083 2.52095016]\n",
      " [3.07295517 3.6180417 ]\n",
      " [2.10083931 2.40466689]]\n"
     ]
    }
   ],
   "source": [
    "data = np.load('data/X.npz')\n",
    "X = data['X']\n",
    "centers = data['centers'] \n",
    "\n",
    "print ('[x,y] coordinates of observations: \\n' + str(X))\n",
    "print ('\\n[x,y] coordinates of cluster centers: \\n' + str(centers))"
   ]
  },
  {
   "cell_type": "markdown",
   "metadata": {
    "deletable": false,
    "nbgrader": {}
   },
   "source": [
    "---\n",
    "\n",
    "## Q1.1 Distance [SOLO, 2pts]\n",
    "\n",
    "First, we will need a function that gives us the distance between two points. We can use _Euclidean distance_ to compute the distance between two points ($x_1,y_1$) and ($x_2,y_2$). Recall **from the MDS examples** that Euclidean distance in $\\mathbb{R}^2$ is calculated as:\n",
    "\n",
    "$$\n",
    "distance((x_1,y_1),(x_2,y_2)) = \\sqrt{(x_1 - x_2)^{2} + (y_1 - y_2)^{2}}\n",
    "$$\n",
    "\n",
    "<div class=\"alert alert-success\">\n",
    "Complete the `distance` function below to calculate the euclidean distance between two points in $\\mathbb{R}^2$. Copy-paste your code in gradescope.\n",
    "</div>"
   ]
  },
  {
   "cell_type": "code",
   "execution_count": 11,
   "metadata": {
    "deletable": false,
    "nbgrader": {
     "checksum": "d950e72f2aad25d2a2eabcf91ea7aac4",
     "grade_id": "distance",
     "solution": true
    }
   },
   "outputs": [],
   "source": [
    "def distance(a, b):\n",
    "    \"\"\"\n",
    "    Returns the Euclidean distance between two points, \n",
    "    a and b, in R^2.\n",
    "    \n",
    "    Parameters\n",
    "    ----------\n",
    "    a, b : numpy arrays of shape (2,)\n",
    "        The (x,y) coordinates for two points, a and b, \n",
    "        in R^2. E.g., a[0] is the x coordinate, \n",
    "        and a[1] is the y coordinate.\n",
    "            \n",
    "    Returns\n",
    "    -------\n",
    "    distance : float\n",
    "        The Euclidean distance between a and b\n",
    "    \"\"\"\n",
    "    # YOUR CODE HERE\n",
    "    return np.sqrt((a[0] - b[0])**2 + (a[1] - b[1])**2)"
   ]
  },
  {
   "cell_type": "code",
   "execution_count": 15,
   "metadata": {
    "deletable": false,
    "nbgrader": {}
   },
   "outputs": [],
   "source": [
    "# add your own test cases here!\n"
   ]
  },
  {
   "cell_type": "code",
   "execution_count": 13,
   "metadata": {
    "deletable": false,
    "nbgrader": {
     "checksum": "121d66ce01b34238286eb60702a438f3",
     "grade": true,
     "grade_id": "test_distance",
     "points": 0.5
    }
   },
   "outputs": [
    {
     "name": "stdout",
     "output_type": "stream",
     "text": [
      "Success!\n"
     ]
    }
   ],
   "source": [
    "\"\"\"Check distances computes the correct values\"\"\"\n",
    "from numpy.testing import assert_allclose\n",
    "\n",
    "assert_allclose(distance(np.array([0.0, 0.0]), np.array([0.0, 1.0])), 1.0)\n",
    "assert_allclose(distance(np.array([3.0, 3.0]), np.array([4.3, 5.0])), 2.3853720883753127)\n",
    "assert_allclose(distance(np.array([130.0, -25.0]), np.array([0.4, 15.0])), 135.63244449614552)\n",
    "\n",
    "print(\"Success!\")"
   ]
  },
  {
   "cell_type": "markdown",
   "metadata": {
    "deletable": false,
    "nbgrader": {}
   },
   "source": [
    "## Q1.2 Assignments [HELP, 3pts]\n",
    "<div class=\"alert alert-success\">Now, we will write a function to update the cluster that each point is assigned to. To do so, we will compute the distance of a point to the center of each cluster, and figure out which center is the closest one. Complete the `update_assignments` function to do this using your `distances` function. Copy-paste your code in gradescope.\n",
    "\n",
    "The next cell provides a test case. If it does not return \"Success!\", your code is incorrect.</div>"
   ]
  },
  {
   "cell_type": "code",
   "execution_count": 37,
   "metadata": {
    "deletable": false,
    "nbgrader": {
     "checksum": "4ef03876612c7b07011eb7dc78684dff",
     "grade_id": "update_assignments",
     "solution": true
    }
   },
   "outputs": [],
   "source": [
    "def update_assignments(num_clusters, X, centers):\n",
    "    \"\"\"\n",
    "    Returns the cluster assignment (number) for each data point \n",
    "    in X, computed as the closest cluster center. Therefore, the \n",
    "    output is going to be an array with the length corresponding \n",
    "    to the number of datapoints.\n",
    "    \n",
    "    Parameters\n",
    "    ----------\n",
    "    num_clusters : int\n",
    "        The number of disjoint clusters (i.e., k) in \n",
    "        the X\n",
    "    \n",
    "    X : numpy array of shape (m, 2)\n",
    "        An array of m data points in R^2.\n",
    "    \n",
    "    centers : numpy array of shape (num_clusters, 2)\n",
    "        The coordinates for the centers of each cluster\n",
    "        \n",
    "    Returns\n",
    "    -------\n",
    "    cluster_assignments : numpy array of shape (m,)\n",
    "        An array containing the cluster label assignments \n",
    "        for each data point in X. Each cluster label is an integer\n",
    "        between 0 and (num_clusters - 1). \n",
    "    \"\"\"\n",
    "    # YOUR CODE HERE\n",
    "    num_points = len(X)\n",
    "    cluster_assignments = np.zeros(num_points)\n",
    "    for i in range(num_points):\n",
    "        lst_distances = [distance(X[i], center) for center in centers]\n",
    "        cluster_assignments[i] = lst_distances.index(min(lst_distances))\n",
    "    return cluster_assignments"
   ]
  },
  {
   "cell_type": "code",
   "execution_count": 38,
   "metadata": {
    "deletable": false,
    "nbgrader": {}
   },
   "outputs": [],
   "source": [
    "# add your own test cases here!\n"
   ]
  },
  {
   "cell_type": "code",
   "execution_count": 39,
   "metadata": {
    "deletable": false,
    "nbgrader": {
     "checksum": "c8b9f807f1ca9aefcbe7f5a1b537125d",
     "grade": true,
     "grade_id": "test_update_assignments",
     "points": 1.5
    }
   },
   "outputs": [
    {
     "name": "stdout",
     "output_type": "stream",
     "text": [
      "Success!\n"
     ]
    }
   ],
   "source": [
    "\"\"\"Check update_assignments computes the correct values\"\"\"\n",
    "from nose.tools import assert_equal\n",
    "from numpy.testing import assert_array_equal\n",
    "\n",
    "# load the data\n",
    "data = np.load('data/X.npz')\n",
    "X = data['X']\n",
    "\n",
    "# validate update_assignments using different values\n",
    "actual = update_assignments(2, X, np.array([[3, 2], [1, 4]]))\n",
    "expected = np.array([\n",
    "    0, 0, 0, 0, 0, 0, 0, 0, 0, 0, 0, 0, 0, \n",
    "    0, 0, 0, 0, 0, 0, 0, 0, 1, 1, 1, 1, 0, 0, 1, 0, 0])\n",
    "\n",
    "# is the output of the correct shape?\n",
    "assert_equal(actual.shape[0], X.shape[0])\n",
    "\n",
    "# are the cluster labels correct?\n",
    "assert_array_equal(expected, actual)\n",
    "\n",
    "# validate update_assignments using different values\n",
    "actual = update_assignments(3, X[:int(X.shape[0]/2)], np.array([X[0], X[1], X[2]]))\n",
    "expected = np.array([0, 1, 2, 2, 0, 2, 1, 2, 2, 2, 0, 0, 0, 0, 0])\n",
    "\n",
    "# is the output of the correct shape?\n",
    "assert_equal(actual.shape[0], X.shape[0] / 2)\n",
    "\n",
    "# are the cluster labels correct?\n",
    "assert_array_equal(expected, actual)\n",
    "\n",
    "# check that it uses distance\n",
    "old_distance = distance\n",
    "del distance\n",
    "try:\n",
    "    update_assignments(2, X, np.array([[3, 2], [1, 4]]))\n",
    "except NameError:\n",
    "    pass\n",
    "else:\n",
    "    raise AssertionError(\"update_assignments does not call distance\")\n",
    "finally:\n",
    "    distance = old_distance\n",
    "    del old_distance\n",
    "\n",
    "print(\"Success!\")"
   ]
  },
  {
   "cell_type": "markdown",
   "metadata": {
    "deletable": false,
    "nbgrader": {}
   },
   "source": [
    "---\n",
    "## Q2. Update [HELP, 3pts] "
   ]
  },
  {
   "cell_type": "markdown",
   "metadata": {
    "deletable": false,
    "nbgrader": {}
   },
   "source": [
    "<div class=\"alert alert-success\">Now, we need to do the next step of the clustering algorithm: recompute the cluster centers based on which points are assigned to that cluster. Recall that the new centers are simply the two-dimensional means of each group of data points in the cluster. A two-dimensional mean is calculated by simply finding the mean of the x coordinates and the mean of the y coordinates. Complete the `update_parameters` function to do this (check out the doc string to make sure you return the right output). Copy your code in gradescope. </div>"
   ]
  },
  {
   "cell_type": "code",
   "execution_count": 45,
   "metadata": {
    "deletable": false,
    "nbgrader": {
     "checksum": "cb7998998e60494312a09789f30fd334",
     "grade_id": "update_parameters",
     "solution": true
    }
   },
   "outputs": [],
   "source": [
    "def update_parameters(num_clusters, X, cluster_assignment):\n",
    "    \"\"\"\n",
    "    Recalculates cluster centers running update_assignments.\n",
    "    \n",
    "    Parameters\n",
    "    ----------\n",
    "    num_clusters : int\n",
    "        The number of disjoint clusters (i.e., k) in \n",
    "        the X\n",
    "    \n",
    "    X : numpy array of shape (m, 2)\n",
    "        An array of m data points in R^2\n",
    "    \n",
    "    cluster_assignment : numpy array of shape (m,)\n",
    "        The array of cluster labels assigned to each data \n",
    "        point as returned from update_assignments\n",
    "    \n",
    "    Returns\n",
    "    -------\n",
    "    updated_centers : numpy array of shape (num_clusters, 2)\n",
    "        An array containing the new positions for each of \n",
    "        the cluster centers\n",
    "    \"\"\"\n",
    "    # YOUR CODE HERE\n",
    "    updated_centers = np.zeros(num_clusters*2).reshape(num_clusters,2)\n",
    "    for i in range(num_clusters):\n",
    "        points_idx = [j for j in range(len(cluster_assignment)) if cluster_assignment[j]==i]\n",
    "        points = [X[k] for k in points_idx]\n",
    "        updated_centers[i] = np.mean(points, axis=0)\n",
    "    return updated_centers"
   ]
  },
  {
   "cell_type": "code",
   "execution_count": 46,
   "metadata": {
    "deletable": false,
    "nbgrader": {}
   },
   "outputs": [],
   "source": [
    "# add your own test cases here!\n"
   ]
  },
  {
   "cell_type": "code",
   "execution_count": 47,
   "metadata": {
    "deletable": false,
    "nbgrader": {
     "checksum": "5da64ff09c5c2e59b666d7b5cedc6295",
     "grade": true,
     "grade_id": "test_update_parameters",
     "points": 1.5
    }
   },
   "outputs": [
    {
     "name": "stdout",
     "output_type": "stream",
     "text": [
      "Success!\n"
     ]
    }
   ],
   "source": [
    "\"\"\"Check update_parameters computes the correct values\"\"\"\n",
    "from nose.tools import assert_equal\n",
    "from numpy.testing import assert_allclose\n",
    "\n",
    "# load the data\n",
    "data = np.load('data/X.npz')\n",
    "X = data['X']\n",
    "\n",
    "# validate update_assignments using different values\n",
    "cluster_assignment1 = np.array([\n",
    "    0, 0, 0, 0, 0, 0, 0, 0, 0, 0, 0, 0, 0, \n",
    "    0, 0, 0, 0, 0, 0, 0, 0, 1, 1, 1, 1, 0, 0, 1, 0, 0])\n",
    "actual = update_parameters(2, X, cluster_assignment1)\n",
    "expected = np.array([[ 3.24286584,  2.71362623], [ 2.80577245,  4.07633606]])\n",
    "assert_allclose(expected, actual)\n",
    "\n",
    "cluster_assignment2 = np.array([0, 1, 2, 2, 0, 2, 1, 2, 2, 2, 0, 0, 0, 0, 0])\n",
    "actual = update_parameters(3, X[:int(X.shape[0]/2)], cluster_assignment2)\n",
    "expected = np.array([[ 3.4914304 ,  2.79181724], [ 3.03095255,  2.02958778], [ 2.86686881,  1.76070598]])\n",
    "assert_allclose(expected, actual, rtol=1e-6)\n",
    "    \n",
    "print(\"Success!\")"
   ]
  },
  {
   "cell_type": "markdown",
   "metadata": {
    "deletable": false,
    "nbgrader": {}
   },
   "source": [
    "---\n",
    "## Q3. Running k-means [3pts, SOLO]"
   ]
  },
  {
   "cell_type": "markdown",
   "metadata": {
    "deletable": false,
    "nbgrader": {}
   },
   "source": [
    "At this stage you are ready to run the $k$-means clustering algorithm! The `k_means` function below will call your functions from Q1.2 and Q2 to run the k-means algorithm on the data points in `X`. Note that for this problem we assume that $k = 3$.\n",
    "\n",
    "Take a look at the function `k_means` we're providing below, and run the next cell to call it."
   ]
  },
  {
   "cell_type": "code",
   "execution_count": 52,
   "metadata": {},
   "outputs": [],
   "source": [
    "def k_means(num_clusters, X, centers, update_assignments, \n",
    "            update_parameters, n_iter=4, plotting = True):\n",
    "    \"\"\"\n",
    "    Runs the k-means algorithm for n_iter iterations and plots\n",
    "    the results.\n",
    "    \n",
    "    Parameters\n",
    "    ----------\n",
    "    num_clusters : int\n",
    "        The number of disjoint clusters (i.e., k) to search for\n",
    "        in X\n",
    "    \n",
    "    X : numpy array of shape (m, 2)\n",
    "        An array of m data points in R^2\n",
    "        \n",
    "    centers : numpy array of shape (num_clusters, 2)\n",
    "        The coordinates for the centers of each cluster\n",
    "        \n",
    "    update_assignments : function\n",
    "        The function you completed in part A\n",
    "    \n",
    "    update_parameters : function\n",
    "        The function you completed in part B\n",
    "    \n",
    "    n_iter : int (optional)\n",
    "        The number of iterations to run the k_means update procedure.\n",
    "        If not specified, defaults to 4.\n",
    "    \n",
    "    plotting : boolean (optional)\n",
    "        plot the steps if true\n",
    "        \n",
    "    Returns\n",
    "    -------\n",
    "    cluster_assignments : numpy array of shape (m,) \n",
    "        The final label assignments for each of the data points in X\n",
    "        \n",
    "    centers : numpy array of shape (num_clusters, 2)\n",
    "        The final cluster centroids in R^2 after running k-means\n",
    "        \n",
    "    fig: the figure object\n",
    "    \"\"\"\n",
    "    if plotting:\n",
    "        fig, ax = plt.subplots(2, n_iter,figsize=(30,15))\n",
    "        fig.tight_layout(h_pad=2.0)\n",
    "        ax = ax.flatten()\n",
    "\n",
    "    for i in range(n_iter):\n",
    "        # Step 1: Update cluster assignments\n",
    "        cluster_assignments = \\\n",
    "            update_assignments(num_clusters, X, centers)\n",
    "           \n",
    "        if plotting:\n",
    "            # plot data with colors corresponding to cluster assignments\n",
    "            for j in range(X.shape[0]):\n",
    "                if cluster_assignments[j] == 0:\n",
    "                    ax[2*i].plot(X[j,0], X[j,1], 'r.')\n",
    "                elif cluster_assignments[j] == 1:\n",
    "                    ax[2*i].plot(X[j,0], X[j,1], 'b.')\n",
    "                else:\n",
    "                    ax[2*i].plot(X[j,0], X[j,1], 'g.')\n",
    "\n",
    "            # plot the centers as stars with the associated color\n",
    "            ax[2*i].plot(centers[0,0], centers[0,1], 'r*', markersize=10)\n",
    "            ax[2*i].plot(centers[1,0], centers[1,1], 'b*', markersize=10)\n",
    "            if len(centers)>2:\n",
    "                ax[2*i].plot(centers[2,0], centers[2,1], 'g*', markersize=10)\n",
    "            ax[2*i].set_title('Step 1: \\nIteration ' + str(i+1))\n",
    "\n",
    "            ax[2*i].set_xlim([2, 4.5])\n",
    "            ax[2*i].set_ylim([1, 4.5])\n",
    "            ax[2*i].set_xticks([]) \n",
    "            ax[2*i].set_yticks([])\n",
    "        \n",
    "        # Step 2: Update the cluster centers\n",
    "        centers = \\\n",
    "            update_parameters(num_clusters, X, cluster_assignments)\n",
    "        \n",
    "        if plotting:\n",
    "            # Plot data assignments with the updated center positions\n",
    "            for j in range(X.shape[0]):\n",
    "                if cluster_assignments[j] == 0:\n",
    "                    ax[2*i+1].plot(X[j,0], X[j,1], 'r.')\n",
    "                elif cluster_assignments[j] == 1:\n",
    "                    ax[2*i+1].plot(X[j,0], X[j,1], 'b.')\n",
    "                else:\n",
    "                    ax[2*i+1].plot(X[j,0], X[j,1], 'g.')\n",
    "\n",
    "            # Plot cluster centers as stars\n",
    "            ax[2*i+1].plot(centers[0][0], \n",
    "                           centers[0][1], \n",
    "                           'r*', markersize=10)\n",
    "            ax[2*i+1].plot(centers[1][0], \n",
    "                           centers[1][1], \n",
    "                           'b*', markersize=10)\n",
    "            \n",
    "            if len(centers)>2:\n",
    "                ax[2*i+1].plot(centers[2][0], \n",
    "                               centers[2][1], \n",
    "                               'g*', markersize=10)\n",
    "                \n",
    "            ax[2*i+1].set_title('Step 2: \\nIteration ' + str(i+1))\n",
    "\n",
    "            ax[2*i+1].set_xlim([2, 4.5])\n",
    "            ax[2*i+1].set_ylim([1, 4.5])\n",
    "            ax[2*i+1].set_xticks([])\n",
    "            ax[2*i+1].set_yticks([])\n",
    "        \n",
    "    if plotting:\n",
    "        plt.show()\n",
    "        return cluster_assignments, centers, fig\n",
    "    else: \n",
    "        return cluster_assignments, centers"
   ]
  },
  {
   "cell_type": "code",
   "execution_count": 53,
   "metadata": {
    "deletable": false,
    "nbgrader": {
     "checksum": "8320b1ac6dd195a348037a2a1f5bbc8d",
     "grade": false,
     "grade_id": "run_k_means",
     "locked": true,
     "solution": false
    }
   },
   "outputs": [
    {
     "data": {
      "image/png": "[encoded data removed]",
      "text/plain": [
       "<Figure size 2160x1080 with 8 Axes>"
      ]
     },
     "metadata": {},
     "output_type": "display_data"
    }
   ],
   "source": [
    "# load the data\n",
    "data = np.load('data/X.npz')\n",
    "X = data['X']\n",
    "centers = data['centers'] \n",
    "\n",
    "# run k-means\n",
    "cluster_assignments, updated_centers, fig = k_means(3, X, centers, update_assignments, update_parameters, n_iter=4)\n",
    "\n",
    "fig.savefig('PS10_Q3.png')"
   ]
  },
  {
   "cell_type": "markdown",
   "metadata": {
    "deletable": false,
    "nbgrader": {}
   },
   "source": [
    "If the functions you completed above are working properly, you should see a figure containing a subplot of the output from steps (1) and (2) for four iterations of the algorithm. This plot should give you a sense of how the algorithm progresses over time. The data points are each assigned to one of three colors corresponding to their current cluster label. The cluster centers are plotted as stars.\n",
    "\n",
    "<div class=\"alert alert-success\"> Upload the screenshot of PS10_Q3.png in Gradescope. Describe what happened in the 4 2-step iterations in 2-3 sentences. Do you think we need more iterations in this particular case? Explain why in one sentence, in gradescope. </div>"
   ]
  },
  {
   "cell_type": "markdown",
   "metadata": {},
   "source": [
    "What happened: \n",
    "\n",
    "For each iteration, in step 1, every data point is assigned to one of the three categories (blue, green, red) whose center (either the initial values provided or the result of step 2 from the previous iteration) is the closest to the data point being assigned; and in step 2, the centers of all three categories are updated by taking the two-dimensional means (the mean of all the x coordinates and the mean of all the y coordinates) of all the data points assigned to each category. These two steps are repeated in each of the four iterations; after step 1 in each iteration, the data point assignment is updated so that the data points in each category become more clustered than in the previous iteration; after step 2 in each iteration, the centers of categories are updated to reflect the changes of data point assignment done in step 1 so that now they represent the centers of updated clusters.\n",
    "\n",
    "\n",
    "More iterations:\n",
    "\n",
    "Yes, I think we need at least one more iteration in this particular case. \n",
    "\n",
    "For example, if we look at the discrete green point and red point in the middle of the space between the red cluster and the green cluster, it is clear that the red point is actually closer to the green cluster than to the red cluster, and this red point is also closer to the green cluster than the green point is -- this point will be categorized into the green category in step 1 the next iteration, which better reflect the structure of these data points; if we do more iterations, boundary cases like this can be categorized more precisely."
   ]
  },
  {
   "cell_type": "markdown",
   "metadata": {
    "deletable": false,
    "nbgrader": {}
   },
   "source": [
    "\n",
    "\n",
    "## Q4. New object\n",
    "\n",
    "Now that we have assigned cluster labels to each datapoint, let's investigate how we should classify a _new_ object (which we can see is a Shih-Tzu):\n",
    "\n",
    "![](images/maddie.png)\n",
    "\n"
   ]
  },
  {
   "cell_type": "markdown",
   "metadata": {},
   "source": [
    "Complete the function template in `assign_new_object` to determine the appropriate cluster label for this new object."
   ]
  },
  {
   "cell_type": "code",
   "execution_count": 54,
   "metadata": {
    "deletable": false,
    "nbgrader": {
     "checksum": "815f75ed0479de932746abc912b262d7",
     "grade": false,
     "grade_id": "assign_new_object",
     "solution": true
    }
   },
   "outputs": [],
   "source": [
    "def assign_new_object(new_object, updated_centers):\n",
    "    \"\"\"\n",
    "    Returns the cluster label (number) for new_object using k-means \n",
    "    clustering.\n",
    "    \n",
    "    Parameters\n",
    "    ----------\n",
    "    new_object : numpy array of shape (2,)\n",
    "        The (x,y) coordinates of a new object to be classified\n",
    "        \n",
    "    updated_centers : numpy array of shape (num_clusters,2)\n",
    "        An array containing the updated (x,y) coordinates for \n",
    "        each cluster center\n",
    "        \n",
    "    Returns\n",
    "    -------\n",
    "    label : int\n",
    "       The cluster label assignment for new_object. This is a\n",
    "       number between 0 and and (num_clusters - 1).\n",
    "    \"\"\"\n",
    "    # YOUR CODE HERE\n",
    "    lst_distances = [distance(new_object, updated_center) for updated_center in updated_centers]\n",
    "    return lst_distances.index(min(lst_distances))"
   ]
  },
  {
   "cell_type": "code",
   "execution_count": 55,
   "metadata": {
    "deletable": false,
    "nbgrader": {}
   },
   "outputs": [],
   "source": [
    "# add your own test cases here!\n"
   ]
  },
  {
   "cell_type": "code",
   "execution_count": 56,
   "metadata": {
    "deletable": false,
    "nbgrader": {
     "checksum": "9229cbca2da4ed5ecf4b3b7e1690b33d",
     "grade": true,
     "grade_id": "test_assign_new_object",
     "points": 1
    }
   },
   "outputs": [
    {
     "name": "stdout",
     "output_type": "stream",
     "text": [
      "Success!\n"
     ]
    }
   ],
   "source": [
    "\"\"\"Check assign_new_object computes the correct values\"\"\"\n",
    "from nose.tools import assert_equal\n",
    "\n",
    "# validate update_assignments using different values\n",
    "centers1 = np.array([[ 3.17014624,  2.42738134], [ 2.90932354,  4.26426491]])\n",
    "assert_equal(assign_new_object(np.array([0, 1]), centers1), 0)\n",
    "assert_equal(assign_new_object(np.array([1, 0]), centers1), 0)\n",
    "assert_equal(assign_new_object(np.array([3, 2]), centers1), 0)\n",
    "assert_equal(assign_new_object(np.array([2, 4]), centers1), 1)\n",
    "\n",
    "centers2 = np.array([[ 3.170146,  2.427381], [ 3.109456,  1.902395], [ 2.964183,  1.827484]])\n",
    "assert_equal(assign_new_object(np.array([0, 1]), centers2), 2)\n",
    "assert_equal(assign_new_object(np.array([1, 0]), centers2), 2)\n",
    "assert_equal(assign_new_object(np.array([3, 2]), centers2), 1)\n",
    "assert_equal(assign_new_object(np.array([2, 4]), centers2), 0)\n",
    "\n",
    "# check that it uses distance\n",
    "old_distance = distance\n",
    "del distance\n",
    "try:\n",
    "    update_assignments(2, X, np.array([[3, 2], [1, 4]]))\n",
    "except NameError:\n",
    "    pass\n",
    "else:\n",
    "    raise AssertionError(\"assign_new_object does not call distance\")\n",
    "finally:\n",
    "    distance = old_distance\n",
    "    del old_distance\n",
    "\n",
    "print(\"Success!\")"
   ]
  },
  {
   "cell_type": "markdown",
   "metadata": {
    "deletable": false,
    "nbgrader": {}
   },
   "source": [
    "Now that we have the function, let's first rerun $k$-means, to make sure we have the correct variables set:"
   ]
  },
  {
   "cell_type": "code",
   "execution_count": 57,
   "metadata": {
    "deletable": false,
    "nbgrader": {
     "checksum": "7825d835f2fe51ff4a18990a9e5f3bc8",
     "grade": false,
     "grade_id": "rerun_k_means",
     "locked": true,
     "solution": false
    }
   },
   "outputs": [
    {
     "data": {
      "image/png": "[encoded data removed]",
      "text/plain": [
       "<Figure size 2160x1080 with 8 Axes>"
      ]
     },
     "metadata": {},
     "output_type": "display_data"
    }
   ],
   "source": [
    "# load the edata\n",
    "data = np.load('data/X.npz')\n",
    "X = data['X']\n",
    "centers = data['centers'] \n",
    "\n",
    "# run k-means\n",
    "cluster_assignments, updated_centers, fig = k_means(3, X, centers, update_assignments, update_parameters, n_iter=4)"
   ]
  },
  {
   "cell_type": "markdown",
   "metadata": {
    "deletable": false,
    "nbgrader": {}
   },
   "source": [
    "Next, let's implement the `assign_new_object` function to classify image of the Shih-Tzu:"
   ]
  },
  {
   "cell_type": "code",
   "execution_count": 58,
   "metadata": {
    "deletable": false,
    "nbgrader": {
     "checksum": "de03f71a97d39ab5112c6061c1036531",
     "grade": false,
     "grade_id": "assign_specific_object",
     "locked": true,
     "solution": false
    }
   },
   "outputs": [
    {
     "name": "stdout",
     "output_type": "stream",
     "text": [
      "The new object was assigned to cluster: 0\n"
     ]
    }
   ],
   "source": [
    "new_object = np.array([3.3, 3.5]) # image coordinates\n",
    "label = assign_new_object(new_object, updated_centers)\n",
    "print ('The new object was assigned to cluster: '+ str(label))"
   ]
  },
  {
   "cell_type": "markdown",
   "metadata": {
    "deletable": false,
    "nbgrader": {}
   },
   "source": [
    "Finally, we can check the classification result against the true assignments using the provided helper function `plot_final`:"
   ]
  },
  {
   "cell_type": "code",
   "execution_count": 59,
   "metadata": {},
   "outputs": [],
   "source": [
    "def plot_final(X, cluster_assignments, updated_centers, new_object,\n",
    "               assign_new_object):\n",
    "    \"\"\"\n",
    "    Categorizes a new object and plots it against the true cluster\n",
    "    labels.\n",
    "    \n",
    "    Parameters\n",
    "    ----------    \n",
    "    X : numpy array of shape (m, 2)\n",
    "        An array of m data points in R^2\n",
    "    \n",
    "    cluster_assignments : numpy array of shape (m,) \n",
    "        The final label assignments for each of the data points in X\n",
    "    \n",
    "    updated_centers : numpy array of shape (num_clusters, 2)\n",
    "        The coordinates for the centers of each cluster after \n",
    "        running k_means\n",
    "        \n",
    "    new_object : numpy array of shape (2,)\n",
    "        The (x,y) coordinates of a new object to be classified\n",
    "    \n",
    "    assign_new_object : function\n",
    "        The function you completed in part D    \n",
    "        \n",
    "    Returns\n",
    "    -------\n",
    "    label : fig\n",
    "       The plotted figure.\n",
    "    \"\"\"\n",
    "    fig, ax = plt.subplots(1,2)\n",
    "    \n",
    "    # plot data with colors corresponding to cluster assignments\n",
    "    \n",
    "    ax[0].plot(X[(cluster_assignments==0),0], X[(cluster_assignments==0),1], 'r.', label='0')\n",
    "    ax[0].plot(X[(cluster_assignments==1),0], X[(cluster_assignments==1),1], 'b.', label='1')\n",
    "    ax[0].plot(X[(cluster_assignments==2),0], X[(cluster_assignments==2),1], 'g.', label='2')\n",
    "    \n",
    "    # Generate a label for the new object\n",
    "    label = assign_new_object(new_object, updated_centers)\n",
    "    \n",
    "    # Plot the new object as as big circle on the plot\n",
    "    if label == 0:\n",
    "        ax[0].plot(new_object[0], new_object[1], 'ro', markersize=10)\n",
    "    elif label == 1:\n",
    "        ax[0].plot(new_object[0], new_object[1], 'bo', markersize=10)\n",
    "    else:\n",
    "        ax[0].plot(new_object[0], new_object[1], 'go', markersize=10)\n",
    "    \n",
    "    ax[0].set_aspect('equal', 'datalim')\n",
    "    ax[0].set_xticks([])\n",
    "    ax[0].set_yticks([])\n",
    "    ax[0].set_title('Final Cluster Assignments')\n",
    "    ax[0].legend()\n",
    "    \n",
    "    # Plot the true cluster assignments for comparison\n",
    "    ax[1].plot(X[:10, 0], X[:10, 1], 'r.', label='cats')\n",
    "    ax[1].plot(X[10:20,0], X[10:20, 1], 'b.', label='dogs')\n",
    "    ax[1].plot(X[20:, 0], X[20:, 1], 'g.', label='mops')\n",
    "    ax[1].set_title('True Cluster Assignments')\n",
    "    ax[1].set_aspect('equal', 'datalim')\n",
    "    ax[1].set_xticks([])\n",
    "    ax[1].set_yticks([])\n",
    "    ax[1].legend()\n",
    "    plt.show()\n",
    "    \n",
    "    return fig\n"
   ]
  },
  {
   "cell_type": "code",
   "execution_count": 60,
   "metadata": {
    "deletable": false,
    "nbgrader": {
     "checksum": "01fdb98cbebdf6c7c41ebef211bae716",
     "grade": false,
     "grade_id": "plot_final",
     "locked": true,
     "solution": false
    }
   },
   "outputs": [
    {
     "data": {
      "image/png": "[encoded data removed]",
      "text/plain": [
       "<Figure size 432x288 with 2 Axes>"
      ]
     },
     "metadata": {},
     "output_type": "display_data"
    }
   ],
   "source": [
    "fig = plot_final(X, cluster_assignments, updated_centers, new_object, assign_new_object)\n",
    "\n",
    "fig.savefig('PS10_Q4.png')"
   ]
  },
  {
   "cell_type": "markdown",
   "metadata": {
    "deletable": false,
    "nbgrader": {}
   },
   "source": [
    "\n",
    "## Q4.1. New object [HELP, 2pts].\n",
    "\n",
    "<div class=\"alert alert-success\">\n",
    " When interpreting these plots, don't worry if the coloring differs between the two solutions; what matters is whether $k$-means identifies the same cluster boundaries as are shown in the true clusters. In gradescope, explain in one sentence why the coloring scheme does not matter - [hint: what do the cluster labels mean in the algorithm?]\n",
    "    \n"
   ]
  },
  {
   "cell_type": "markdown",
   "metadata": {
    "deletable": false,
    "nbgrader": {
     "checksum": "dc76fb43396cc124915b4199f19742c6",
     "grade": true,
     "grade_id": "part_e1",
     "locked": false,
     "points": 0.25,
     "solution": true
    }
   },
   "source": [
    "The coloring scheme is based on the sequence of cluster labels, and the cluster labels in our algorithm merely mean the index of the cluster center coordinates in the list of coordinates for all the centers; initial cluster center coordinates can be randomly shifted and/or generated and thus do not have a fixed correspondence to any real categorical meaning."
   ]
  },
  {
   "cell_type": "markdown",
   "metadata": {},
   "source": [
    "\n",
    "\n",
    "## Q4.2. New object [SOLO, 5pts].\n",
    "\n",
    "<div class=\"alert alert-success\">\n",
    "    \n",
    "A. Did the algorithm correctly identify the Shih-Tzu?  Give an Yes/No answer, and a one sentence explanation for how you reached this conclusion.\n",
    "    \n",
    "B. Do you notice any differences between the true clusters and those identified via $k$-means? Write a few sentences commenting on any differences you found and why these differences might exist. Hint: are some dots that are originally in one cluster incorrectly identified as a part of a different cluster? Why might that be the case?\n",
    "    \n",
    "Upload your figure PS10_Q4.png in gradescope.</div>"
   ]
  },
  {
   "cell_type": "markdown",
   "metadata": {
    "deletable": false,
    "nbgrader": {
     "checksum": "dc76fb43396cc124915b4199f19742c6",
     "grade": true,
     "grade_id": "part_e1",
     "locked": false,
     "points": 0.25,
     "solution": true
    }
   },
   "source": [
    "A. Yes, the algorithm correctly identifies the Shih-Tzu as a dog. The data points in the true \"dogs\" cluster are all in the \"0\" cluster in our \"First Cluster Assignments\" plot, and there are very few (2 boundary cases only) data points in the \"0\" cluster that does not belong to the true \"dogs\" cluster; therefore, we can infer that the \"0\" cluster which the Shih-Tzu (a kind of dog) is in is the \"dogs\" cluster.\n",
    "\n",
    "\n",
    "B. There are two differences:\n",
    "\n",
    "(1) A data point (bottom left one in the \"0\" cluster in our \"First Cluster Assignments\" plot) belongs to the \"cats\" cluster (\"2\" cluster in our \"First Cluster Assignments\" plot) is incorrectly identified as being in the \"dogs\" cluster (\"0\" cluster in our \"First Cluster Assignments\" plot). The reason why this is the case has already been partly discussed in Q3. Since the initial center for the \"2\" cluster is on the far left side of the plot (very far away from the potential cluster), it takes relatively more iterations to move it to the appropriate position; and because we have only done 4 iterations, this data point has not had a chance to be included in the \"2\" cluster yet. But if we do one more iteration, this data point will be assigned correctly to the \"2\" cluster, because it is clear from the plot of step 2 iteration 4 that this data point is actually already closer to the newly updated \"2\" cluster center than to the \"0\" cluster center.\n",
    "\n",
    "(2) A data point (top left one in the \"0\" cluster in our \"First Cluster Assignments\" plot) belongs to the \"mops\" cluster (\"1\" cluster in our \"First Cluster Assignments\" plot) is incorrectly identified as being in the \"dogs\" cluster (\"0\" cluster in our \"First Cluster Assignments\" plot). This is probably related to the issue mentioned in (1). Since the data point mentioned in (1) is incorrectly assigned to \"0\" cluster, the center of \"0\" cluster is shifted to the left side due to this relatively extreme outlier, causing the data point we are now discussing in (2) to be closer to the \"0\" cluster center instead of the \"1\" cluster center. This incorrect assignment is expected to be corrected once we have done more iterations to let the data point mentioned (1) to be correctly assigned to the \"2\" cluster (instead of the \"0\" cluster) and the center of the \"0\" cluster shifts to the right a little bit."
   ]
  },
  {
   "cell_type": "markdown",
   "metadata": {
    "deletable": false,
    "nbgrader": {}
   },
   "source": [
    "\n",
    "## Q5. Random starting points [HELP, 5pts].\n",
    "\n",
    "<div class=\"alert alert-success\">\n",
    "We are providing a function `init_centers` which will return random starting points for the center of each cluster. Take a look at the function below.  Re-run k-means as you did in Q3, but use init_centers to initialize the random starting points for the centers. Use 6 iterations, rather than 4, to run k-means clustering. Try  running it out multiple times, until your final cluster result is different from the one we obtained in Q3. Save and upload this figure in gradescope as PS10_Q5.png. Explain in 2-3 sentences how this solution differs from the original one. What happened in the algorithm to produce such results? </div>\n",
    "    \n"
   ]
  },
  {
   "cell_type": "code",
   "execution_count": 61,
   "metadata": {},
   "outputs": [],
   "source": [
    "\n",
    "def init_centers(k=3):\n",
    "    \"\"\"\n",
    "    Randomly initialize cluster centers\n",
    "    \"\"\"\n",
    "    return np.vstack([np.random.uniform(low=2., high=4.5, size=k),\n",
    "                      np.random.uniform(low=1, high=4.5, size=k)]).T"
   ]
  },
  {
   "cell_type": "code",
   "execution_count": 105,
   "metadata": {},
   "outputs": [
    {
     "data": {
      "image/png": "[encoded data removed]",
      "text/plain": [
       "<Figure size 2160x1080 with 12 Axes>"
      ]
     },
     "metadata": {},
     "output_type": "display_data"
    }
   ],
   "source": [
    "# YOUR CODE HERE\n",
    "cluster_assignments, updated_centers, fig = k_means(3, X, init_centers(3), update_assignments, update_parameters, 6)\n",
    "\n",
    "fig. savefig('PS10_Q5.png')"
   ]
  },
  {
   "cell_type": "markdown",
   "metadata": {},
   "source": [
    "How this solution differs from the original one:\n",
    "\n",
    "This solution ends up giving only two clusters despite the fact that we initialized three centers. The green center disappears after only one iteration and never appear again; the remaining interactions are just like assigning the data points to two clusters.\n",
    "\n",
    "\n",
    "How such results are produced:\n",
    "\n",
    "This is because the randomly generated green center is far at the bottom right corner of the plot while the randomly generated red and blue centers are relatively more to the center of the plot (where the data points lie). This results in all data points being closer to either the red or blue centers than to the green center, leading to no data point being assigned to the green cluster after step 1 iteration 1. Consequently, when updating the coordinates of the centers, since there is no data for the green center, its updated coordinates cannot be calculated by taking the average over all coordinates in the cluster, and thus the green center continues to be absent and the plots end up having only two clusters."
   ]
  },
  {
   "cell_type": "markdown",
   "metadata": {},
   "source": [
    "\n",
    "## Q6. Numbers of clusters.\n",
    "\n",
    "**So far, we have seen examples where we know that there are 3 categories/labels in the data. However, in general you won't know how many clusters there are in the data ahead of time. In this case, you need to figure out the correct/optimal number of clusters (k). Let's try to figure out a way to decide k.**\n",
    "\n",
    "### Q6.1 k=2. [HELP, 2pts]\n",
    "\n",
    "<div class=\"alert alert-success\">\n",
    "Run k-means with k=2, and 4 iterations. Use the cluster center starting points provided by the data (first two of the three). Plot final clusters and upload the figure as PS10_Q6_1.png to Gradescope. Explain the patterns you observe - how does clustering compare to previous results?\n",
    "</div>\n",
    "    "
   ]
  },
  {
   "cell_type": "code",
   "execution_count": 76,
   "metadata": {},
   "outputs": [
    {
     "data": {
      "image/png": "[encoded data removed]",
      "text/plain": [
       "<Figure size 2160x1080 with 8 Axes>"
      ]
     },
     "metadata": {},
     "output_type": "display_data"
    }
   ],
   "source": [
    "# load the data\n",
    "data = np.load('data/X.npz')\n",
    "X = data['X']\n",
    "centers = data['centers'][(0,2),:] \n",
    "\n",
    "# YOUR CODE HERE\n",
    "cluster_assignments, updated_centers, fig = k_means(2, X, centers, update_assignments, update_parameters, 4)\n",
    "\n",
    "fig.savefig('PS10_Q6_1.png')"
   ]
  },
  {
   "cell_type": "markdown",
   "metadata": {},
   "source": [
    "There are only two clusters now instead of three as we were getting before as well as in the true clustering -- mops and dogs are grouped into the same cluster, while cats still form a distinct cluster."
   ]
  },
  {
   "cell_type": "markdown",
   "metadata": {},
   "source": [
    "### Q6.2 Average distance. [SOLO, 3pts]\n",
    "\n",
    "<div class=\"alert alert-success\">\n",
    "Write a function that computes the average distance a data point to the center of its cluster. We'll try use this measure to see how well the algorithm is doing. Enter in gradescope the average distance for the output of k-means with 4 iterations and the starting point centers provided above. Specifically, copy-paste the printed output of the cell (this will be auto-graded).</div>\n",
    "    "
   ]
  },
  {
   "cell_type": "code",
   "execution_count": 86,
   "metadata": {},
   "outputs": [],
   "source": [
    "\n",
    "def average_distance(X,centers,cluster_assignments):\n",
    "    \"\"\"\n",
    "    returns the average distance to clusters\n",
    "    \n",
    "    Parameters\n",
    "    ----------    \n",
    "    X : numpy array of shape (m, 2)\n",
    "        An array of m data points in R^2\n",
    "    \n",
    "    cluster_assignments : numpy array of shape (m,) \n",
    "        The final label assignments for each of the data points in X\n",
    "    \n",
    "    centers : numpy array of shape (num_clusters, 2)\n",
    "        The coordinates for the centers of each cluster after \n",
    "        running k_means \n",
    "        \n",
    "    Returns\n",
    "    -------\n",
    "    label : \n",
    "       The average distance.\n",
    "    \"\"\"\n",
    "    #YOUR CODE HERE\n",
    "    distances = np.zeros(len(X))\n",
    "    for i in range(len(X)):\n",
    "        distances[i] = distance(X[i], centers[int(cluster_assignments[i])])\n",
    "    return np.mean(distances)"
   ]
  },
  {
   "cell_type": "code",
   "execution_count": 106,
   "metadata": {
    "scrolled": true
   },
   "outputs": [
    {
     "data": {
      "image/png": "[encoded data removed]",
      "text/plain": [
       "<Figure size 2160x1080 with 8 Axes>"
      ]
     },
     "metadata": {},
     "output_type": "display_data"
    },
    {
     "name": "stdout",
     "output_type": "stream",
     "text": [
      "Final distance is: 0.27\n"
     ]
    }
   ],
   "source": [
    "# load the data\n",
    "data = np.load('data/X.npz')\n",
    "X = data['X']\n",
    "centers = data['centers'] \n",
    "\n",
    "# run k-means\n",
    "cluster_assignments, updated_centers, fig = k_means(3, X, centers, update_assignments, update_parameters, n_iter=4)\n",
    "\n",
    "# compute the final distance\n",
    "print(\"Final distance is: \" + str(np.around(average_distance(X,updated_centers,cluster_assignments),decimals=2)))"
   ]
  },
  {
   "cell_type": "markdown",
   "metadata": {},
   "source": [
    "\n",
    "### Q6.3 Number of clusters. [SOLO, 5pts]\n",
    "\n",
    "<div class=\"alert alert-success\">\n",
    "Compute the average distance for k = 2 through 6, always using 10 iterations of the algorithm. For each value of k, compute the average distance for 20 different random starting point  initialized using init_centers function, and report the minimum over the starting points for this value of k. You should end up with a list or arrya of 5 minimum average distance values, one for each value of k. Create a bar plot, showing this minimum average distance as a function of k (x axis = k, y axis = minimum distance). Make sure to set up `plotting=False` as an argument in k-means, so you don't always plot the clustering results for each 20*6 times you run it! Upload your result as PS10_Q6_3.png in gradescope.</div>"
   ]
  },
  {
   "cell_type": "code",
   "execution_count": 109,
   "metadata": {},
   "outputs": [
    {
     "data": {
      "image/png": "[encoded data removed]",
      "text/plain": [
       "<Figure size 432x288 with 1 Axes>"
      ]
     },
     "metadata": {
      "needs_background": "light"
     },
     "output_type": "display_data"
    }
   ],
   "source": [
    "ks = np.arange(2,7)\n",
    "nsims = 20\n",
    "\n",
    "#YOUR CODE HERE\n",
    "\n",
    "average_distances = np.zeros(5)\n",
    "for k in ks:\n",
    "    d = []\n",
    "    for _ in range(20):\n",
    "        centers = init_centers(k)\n",
    "        cluster_assignments, updated_centers = k_means(k, X, centers, update_assignments, update_parameters, n_iter=10, plotting=False)\n",
    "        d.append(average_distance(X, centers, cluster_assignments))\n",
    "    average_distances[k-2] = min(d)\n",
    "\n",
    "\n",
    "figure, axis = plt.subplots()\n",
    "axis.bar(ks, average_distances)\n",
    "axis.set_xlabel(\"k\")\n",
    "axis.set_ylabel(\"minimum distance)\")\n",
    "axis.set_title(\"Minimum average distance as a function of k\")\n",
    "\n",
    "figure.savefig('PS10_Q6_3.png')"
   ]
  },
  {
   "cell_type": "markdown",
   "metadata": {},
   "source": [
    "### Q6.4 Evaluating k-means. [HELP, 3]\n",
    "\n",
    "If you got Q6.3 right, you should see that our average distance measure identifies $k=6$ as better than $k=3$. However, we know that's not the case: there are three clusters in our data. Therefore, our way of trying to determine the optimal number of clusters is flawed. In 2-3 sentences, explain why the measure we chose is not a good measure to determine which value of $k$ we should select. Hint: consider what would happen if we selected $k=$ the number of points in our data set. "
   ]
  },
  {
   "cell_type": "markdown",
   "metadata": {},
   "source": [
    "This is not a good measure for determining which value of k to use because, in a general sense, this measure tends to encourage overfitting / having as many clusters as possible since that usually lowers the average distance -- if we have the same number of clusters as the number of points in the data set, we will get an average distance of zero since now the center of every cluster is just the data point itself, and there is no distance between each data point and its cluster center. But this overfitting solution is obviously not a good solution for clustering problems since this is overly complex and does not provide any information regarding category at all -- and category information is exactly what we initially doing clustering for. The optimal number of clusters should be a tradeoff between average distance and simplicity of the solution, rather than only considering the average distance."
   ]
  },
  {
   "cell_type": "markdown",
   "metadata": {
    "deletable": false,
    "nbgrader": {}
   },
   "source": [
    "---\n",
    "<div style=\"background-color: #c1f2a5\">\n",
    "\n",
    "# Submission\n",
    "\n",
    "When you're done with your problem set, do the following:\n",
    "- Upload your answers in Gradescope's PS5.\n",
    "\n",
    "- Convert your Jupyter Notebook into a `.py` file by doing so:    \n",
    "    \n",
    "</div>\n",
    "\n",
    "\n",
    "<center>    \n",
    "  <img src=\"https://www.dropbox.com/s/7s189m4dsvu5j65/instruction.png?dl=1\" width=\"300\"/>\n",
    "</center>\n",
    "\n",
    "<div style=\"background-color: #c1f2a5\">\n",
    "    \n",
    "- Submit the `.py` file you just created in Gradescope's PS5-code.\n",
    "    \n",
    "</div>        \n",
    "\n",
    "\n",
    "\n",
    "\n",
    "</div>\n",
    "\n",
    "</div>\n"
   ]
  },
  {
   "cell_type": "code",
   "execution_count": null,
   "metadata": {},
   "outputs": [],
   "source": []
  }
 ],
 "metadata": {
  "celltoolbar": "Edit Metadata",
  "kernelspec": {
   "display_name": "Python 3",
   "language": "python",
   "name": "python3"
  },
  "language_info": {
   "codemirror_mode": {
    "name": "ipython",
    "version": 3
   },
   "file_extension": ".py",
   "mimetype": "text/x-python",
   "name": "python",
   "nbconvert_exporter": "python",
   "pygments_lexer": "ipython3",
   "version": "3.8.3"
  }
 },
 "nbformat": 4,
 "nbformat_minor": 1
}
